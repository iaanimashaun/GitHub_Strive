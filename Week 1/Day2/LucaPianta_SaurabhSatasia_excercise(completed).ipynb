{
 "cells": [
  {
   "cell_type": "markdown",
   "metadata": {},
   "source": [
    "Here you have a collection of guided exercises for the first class on Python. <br>\n",
    "The exercises are divided by topic, following the topics reviewed during the theory session, and for each topic you have some mandatory exercises, and other optional exercises, which you are invited to do if you still have time after the mandatory exercises. <br>\n",
    "\n",
    "Remember that you have 5 hours to solve these exercises, after which we will review the most interesting exercises together. If you don't finish all the exercises, you can work on them tonightor tomorrow. \n",
    "\n",
    "At the end of the class, we will upload the code with the solutions of the exercises so that you can review them again if needed. If you still have not finished some exercises, try to do them first by yourself, before taking a look at the solutions: you are doing these exercises for yourself, so it is always the best to do them your way first, as it is the fastest way to learn!"
   ]
  },
  {
   "cell_type": "markdown",
   "metadata": {},
   "source": [
    "## From Part 1"
   ]
  },
  {
   "cell_type": "markdown",
   "metadata": {},
   "source": [
    "**Exercise 1.1:** The cover price of a book is 24.95 EUR, but bookstores get a 40 percent discount. Shipping costs 3 EUR for the first copy and 75 cents for each additional copy. Calculate the total wholesale costs for 60 copies. "
   ]
  },
  {
   "cell_type": "code",
   "execution_count": 52,
   "metadata": {},
   "outputs": [
    {
     "name": "stdin",
     "output_type": "stream",
     "text": [
      "Enter book store discount::  40\n",
      "Enter price of one book::  24.95\n",
      "Enter the first copy shiping price::  3\n",
      "Enter shipping price for rest of the copies:: 0.75\n",
      "Enter total number of books:: 60\n"
     ]
    },
    {
     "name": "stdout",
     "output_type": "stream",
     "text": [
      "The wholesale Price for 60 copies:: 945.45 \n"
     ]
    }
   ],
   "source": [
    "#Your Code Here\n",
    "def total_cost(bookStore_discount,book_price,firstCopy_ship,restCopies_ship,total_books):\n",
    "    discount = float((100-bookStore_discount)/100)\n",
    "    book_price_bulk = (book_price*discount)*total_books\n",
    "    ship_price = firstCopy_ship+(restCopies_ship*(total_books - 1))\n",
    "    wholesale_price = round((book_price_bulk + ship_price), 2)\n",
    "    print(\"The wholesale Price for {} copies:: {} \".format(total_books, wholesale_price))\n",
    "    return wholesale_price\n",
    "def main():\n",
    "    bookStore_discount = float(input(\"Enter book store discount:: \"))\n",
    "    book_price = float(input(\"Enter price of one book:: \"))\n",
    "    firstCopy_ship = float(input(\"Enter the first copy shiping price:: \"))\n",
    "    restCopies_ship = float(input(\"Enter shipping price for rest of the copies::\"))\n",
    "    total_books = int(input(\"Enter total number of books::\"))\n",
    "    \n",
    "    total_cost(bookStore_discount,book_price,firstCopy_ship,restCopies_ship,total_books)\n",
    "    \n",
    "if __name__ == \"__main__\":\n",
    "    main()"
   ]
  },
  {
   "cell_type": "markdown",
   "metadata": {},
   "source": [
    "**Exercise 1.2:** When something is wrong with your code, Python will raise errors. Often these will be \"syntax errors\" that signal that something is wrong with the form of your code (e.g., the code in the previous exercise raised a `SyntaxError`). There are also \"runtime errors\", which signal that your code was in itself formally correct, but that something went wrong during the code's execution. A good example is the `ZeroDivisionError`, which indicates that you tried to divide a number by zero (which, as you may know, is not allowed). Try to make Python raise such a `ZeroDivisionError`."
   ]
  },
  {
   "cell_type": "code",
   "execution_count": 6,
   "metadata": {},
   "outputs": [
    {
     "name": "stdout",
     "output_type": "stream",
     "text": [
      "Invalid Division!!!, Cannot divide integer by Zero\n"
     ]
    }
   ],
   "source": [
    "#Your Code Here\n",
    "def catch_exc():\n",
    "    try:\n",
    "        x=5/0\n",
    "        return(x)\n",
    "    except ZeroDivisionError:\n",
    "        print(\"Invalid Division!!!, Cannot divide integer by Zero\")\n",
    "        #raise ZeroDivisionError\n",
    "catch_exc()"
   ]
  },
  {
   "cell_type": "markdown",
   "metadata": {},
   "source": [
    "**Exercise 1.3 (🌶️):** You look at the clock and see that it is currently 14.00h. You set an alarm to go off 535 hours later. At what time will the alarm go off? Write a program that prints the answer. Hint: for the best solution, you will need the modulo operator. Second hint: The answer is 21.00h, but of course, this exercise is not about the answer, but about how you get it."
   ]
  },
  {
   "cell_type": "code",
   "execution_count": 8,
   "metadata": {},
   "outputs": [
    {
     "name": "stdout",
     "output_type": "stream",
     "text": [
      "21.00h\n"
     ]
    }
   ],
   "source": [
    "#Your Code Here\n",
    "\n",
    "print(str( (14 + 535) % 24 ) + \".00h\" )"
   ]
  },
  {
   "cell_type": "markdown",
   "metadata": {},
   "source": [
    "## From Part 4"
   ]
  },
  {
   "cell_type": "markdown",
   "metadata": {},
   "source": [
    "**Exercise 4.1 (🌶️🌶️):** Define a function that receives a string parameter, and returns an integer indicating the count for all the letters of the alphabet that there are in the string. The expected output format is in a **dictionary** with the relevant keys and values. The capital version of a lower case letter is considered to be the same letter.\n",
    "\n",
    "This should sound quite familiar, try to do it without looking at your old code ;)\n",
    "\n",
    "**What is the challenge?**: Don't code 27 times the same line of code, learn how to do things that scale well."
   ]
  },
  {
   "cell_type": "code",
   "execution_count": 46,
   "metadata": {},
   "outputs": [
    {
     "data": {
      "text/plain": [
       "{'s': 2,\n",
       " 't': 1,\n",
       " 'r': 1,\n",
       " 'i': 1,\n",
       " 'v': 1,\n",
       " 'e': 1,\n",
       " 'c': 1,\n",
       " 'h': 1,\n",
       " 'o': 2,\n",
       " 'l': 1}"
      ]
     },
     "execution_count": 46,
     "metadata": {},
     "output_type": "execute_result"
    }
   ],
   "source": [
    "def count_alphabet(text):\n",
    "    char = list(text.lower().replace(\" \",\"\"))\n",
    "    dic = {}.fromkeys(char,0)\n",
    "    for i in char:\n",
    "            dic[i] += 1\n",
    "    return dic\n",
    "\n",
    "\n",
    "count_alphabet('Strive School')"
   ]
  },
  {
   "cell_type": "markdown",
   "metadata": {},
   "source": [
    "## From Part 5"
   ]
  },
  {
   "cell_type": "code",
   "execution_count": 8,
   "metadata": {},
   "outputs": [
    {
     "data": {
      "text/plain": [
       "'\\nCommented text like this is given as the expected answer.\\nWhen running the cell, you will notice it renders it.\\n\\nCan you come up with a way to keep this in the cell but making sure the print ignores it?\\n'"
      ]
     },
     "execution_count": 8,
     "metadata": {},
     "output_type": "execute_result"
    }
   ],
   "source": [
    "\"\"\"\n",
    "Commented text like this is given as the expected answer.\n",
    "When running the cell, you will notice it renders it.\n",
    "\n",
    "Can you come up with a way to keep this in the cell but making sure the print ignores it?\n",
    "\"\"\""
   ]
  },
  {
   "cell_type": "markdown",
   "metadata": {},
   "source": [
    "**Exercise 5.1**: Create a countdown function that starts at a certain count, and counts down to zero. Instead of zero, print \"Blast off!\". Use a `for` loop. \n",
    "\n"
   ]
  },
  {
   "cell_type": "code",
   "execution_count": 47,
   "metadata": {},
   "outputs": [
    {
     "name": "stdout",
     "output_type": "stream",
     "text": [
      "5\n",
      "4\n",
      "3\n",
      "2\n",
      "1\n",
      "Blast off!\n"
     ]
    }
   ],
   "source": [
    "\"\"\"\n",
    "20\n",
    "19\n",
    "18\n",
    "17\n",
    "16\n",
    "15\n",
    "14\n",
    "13\n",
    "12\n",
    "11\n",
    "10\n",
    "9\n",
    "8\n",
    "7\n",
    "6\n",
    "5\n",
    "4\n",
    "3\n",
    "2\n",
    "1\n",
    "Blast off!\n",
    "\"\"\"\n",
    "# Countdown\n",
    "def countdown(num):\n",
    "    for i in range(num, -1, -1):\n",
    "        if i != 0:\n",
    "            print(i)\n",
    "        else:\n",
    "            print(\"Blast off!\")\n",
    "\n",
    "countdown(5)"
   ]
  },
  {
   "cell_type": "markdown",
   "metadata": {},
   "source": [
    "**Exercise 5.2:** Write and test three functions that return the largest, the smallest, and the number of dividables by 3 in a given collection of numbers. Use the algorithm described earlier in the Part 5 lecture :)\n",
    "\n"
   ]
  },
  {
   "cell_type": "code",
   "execution_count": 53,
   "metadata": {},
   "outputs": [
    {
     "name": "stdout",
     "output_type": "stream",
     "text": [
      "100\n",
      "2\n",
      "4\n"
     ]
    }
   ],
   "source": [
    "\"\"\"\n",
    "a = [2, 4, 6, 12, 15, 99, 100]\n",
    "100\n",
    "2\n",
    "4\n",
    "\"\"\"\n",
    "# Your functions\n",
    "def test_func(a):\n",
    "    count = 0\n",
    "    print(max(a))\n",
    "    print(min(a))\n",
    "    for i in a:\n",
    "        if i % 3 == 0:\n",
    "            count+=1\n",
    "    print(count) \n",
    "    \n",
    "\n",
    "test_func(a)\n"
   ]
  },
  {
   "cell_type": "markdown",
   "metadata": {},
   "source": [
    "**Exercise 5.4 (🌶️):** \"99 bottles of beer\" is a traditional song in the United States and Canada. It is popular to sing on long trips, as it has a very repetitive format which is easy to memorize, and can take a long time to sing. The song's simple lyrics are as follows: \"99 bottles of beer on the wall, 99 bottles of beer. Take one down, pass it around, 98 bottles of beer on the wall.\" The same verse is repeated, each time with one fewer bottle. The song is completed when the singer or singers reach zero. Write a function that generates and prints all the verses of the song (though you might start a bit lower, for instance with 10 bottles). Make sure that your loop is not endless, and that you use the proper inflection for the word \"bottle\"."
   ]
  },
  {
   "cell_type": "code",
   "execution_count": 49,
   "metadata": {},
   "outputs": [
    {
     "name": "stdout",
     "output_type": "stream",
     "text": [
      "10 bottles of beer on the wall, 10 bottles of beer. Take one down, pass it around, 9 bottles of beer on the wall\n",
      "9 bottles of beer on the wall, 9 bottles of beer. Take one down, pass it around, 8 bottles of beer on the wall\n",
      "8 bottles of beer on the wall, 8 bottles of beer. Take one down, pass it around, 7 bottles of beer on the wall\n",
      "7 bottles of beer on the wall, 7 bottles of beer. Take one down, pass it around, 6 bottles of beer on the wall\n",
      "6 bottles of beer on the wall, 6 bottles of beer. Take one down, pass it around, 5 bottles of beer on the wall\n",
      "5 bottles of beer on the wall, 5 bottles of beer. Take one down, pass it around, 4 bottles of beer on the wall\n",
      "4 bottles of beer on the wall, 4 bottles of beer. Take one down, pass it around, 3 bottles of beer on the wall\n",
      "3 bottles of beer on the wall, 3 bottles of beer. Take one down, pass it around, 2 bottles of beer on the wall\n",
      "2 bottles of beer on the wall, 2 bottles of beer. Take one down, pass it around, 1 bottles of beer on the wall\n",
      "1 bottle of beer on the wall, 1 bottle of beer. Take one down, pass it around, 0 bottles of beer on the wall\n"
     ]
    }
   ],
   "source": [
    "\"\"\"\n",
    "5 bottles of beer on the wall, 5 bottles of beer. Take one down, pass it around, 4 bottles of beer in the wall\n",
    "4 bottles of beer on the wall, 4 bottles of beer. Take one down, pass it around, 3 bottles of beer in the wall\n",
    "3 bottles of beer on the wall, 3 bottles of beer. Take one down, pass it around, 2 bottles of beer in the wall\n",
    "2 bottles of beer on the wall, 2 bottles of beer. Take one down, pass it around, 1 bottle of beer in the wall\n",
    "1 bottle of beer on the wall, 1 bottle of beer. Take one down, pass it around, 0 bottles of beer in the wall\n",
    "\"\"\"\n",
    "\n",
    "# Beer song\n",
    "def beer_song(bottles):\n",
    "    for i in range(bottles,0 ,-1):\n",
    "            if i != 1:\n",
    "                print(f\"{i} bottles of beer on the wall, {i} bottles of beer. Take one down, pass it around, {i-1} bottles of beer on the wall\")\n",
    "            else:\n",
    "                print(f\"{i} bottle of beer on the wall, {i} bottle of beer. Take one down, pass it around, {i-1} bottles of beer on the wall\")\n",
    "        \n",
    "\n",
    "beer_song(10)"
   ]
  },
  {
   "cell_type": "markdown",
   "metadata": {},
   "source": [
    "**Exercise 5.5 (🌶️):** The Fibonacci sequence is a sequence of numbers that starts with 1, followed by 1 again. Every next number is the sum of the two previous numbers. I.e., the sequence starts with 1, 1, 2, 3, 5, 8, 13, 21,... Write a function that calculates and prints the Fibonacci sequence until the numbers get higher than a `maximum`."
   ]
  },
  {
   "cell_type": "code",
   "execution_count": 48,
   "metadata": {},
   "outputs": [
    {
     "name": "stdout",
     "output_type": "stream",
     "text": [
      "[1, 1, 2, 3, 5, 8, 13, 21, 34, 55, 89]\n"
     ]
    }
   ],
   "source": [
    "\"\"\"\n",
    "Fibonacci sequence up to 22 :\n",
    "0 , 1 , 1 , 2 , 3 , 5 , 8 , 13 , 21\n",
    "\"\"\"\n",
    "# Fibonacci\n",
    "\n",
    "def fibonacci(max):\n",
    "    fibonacci_seq = [1, 1]\n",
    "    for i in range(0, max):\n",
    "        new_number = fibonacci_seq[-1] + fibonacci_seq[-2]\n",
    "        if new_number <= max:\n",
    "            fibonacci_seq.append(new_number)\n",
    "    print(fibonacci_seq)\n",
    "\n",
    "fibonacci(100)\n"
   ]
  },
  {
   "cell_type": "markdown",
   "metadata": {},
   "source": [
    "**Exercise 5.6 (🌶️🌶️):** A prime number is a positive integer that is dividable by exactly two different numbers, namely 1 and itself. The lowest (and only even) prime number is 2. The first 10 prime numbers are 2, 3, 5, 7, 11, 13, 17, 19, 23, and 29. Write a function that returns a **list off all prime numbers** below a given number.\n",
    "\n",
    "Hint: In a loop where you test the possible dividers of the number, you can conclude that the number is not prime as soon as you encounter a number other than 1 or the number itself that divides it. However, you can *only* conclude that it actually *is* prime after you have tested all possible dividers.\n",
    "\n",
    "**What is the challenge here? You have to try to optimize your code and try to make it work for the highest prime number you can encounter before you run out of memory. For low numbers you should know how to do it already**"
   ]
  },
  {
   "cell_type": "markdown",
   "metadata": {},
   "source": [
    "**Exercise 5.7 (🌶️🌶️):** Write a function that prints all integers between the parameters `a` and `b` that can be written as the sum of two squares. Produce output in the form of `z = x**2 + y**2`, e.g., `58 = 3**2 + 7**2`. If a number occurs on the list with multiple *different* ways of writing it as the sum of two squares, that is acceptable. "
   ]
  },
  {
   "cell_type": "code",
   "execution_count": 50,
   "metadata": {},
   "outputs": [
    {
     "name": "stdout",
     "output_type": "stream",
     "text": [
      "0 = 0**2 + 0**2\n",
      "1 = 0**2 + 1**2\n",
      "1 = 1**2 + 0**2\n",
      "2 = 1**2 + 1**2\n",
      "4 = 0**2 + 2**2\n",
      "4 = 2**2 + 0**2\n",
      "5 = 1**2 + 2**2\n",
      "5 = 2**2 + 1**2\n",
      "8 = 2**2 + 2**2\n",
      "9 = 0**2 + 3**2\n",
      "9 = 3**2 + 0**2\n"
     ]
    }
   ],
   "source": [
    "\"\"\"\n",
    "2 = 1**2 + 1**2\n",
    "4 = 0**2 + 2**2\n",
    "4 = 2**2 + 0**2\n",
    "5 = 1**2 + 2**2\n",
    "5 = 2**2 + 1**2\n",
    "8 = 2**2 + 2**2\n",
    "9 = 0**2 + 3**2\n",
    "9 = 3**2 + 0**2\n",
    "\"\"\"\n",
    "\n",
    "# Sum squares\n",
    "\n",
    "def sum_squares(min, max):\n",
    "    for i in range(min, max):\n",
    "        for x in range(min, max):\n",
    "            for y in range(min, max):\n",
    "                if i == x**2 + y**2:\n",
    "                    print(f\"{i} = {x}**2 + {y}**2\") \n",
    "\n",
    "sum_squares(0, 10)"
   ]
  },
  {
   "cell_type": "markdown",
   "metadata": {},
   "source": [
    "**Exercise 5.8 (🌶️):** A, B, C, and D are all different digits. The number DCBA is equal to 4 times the number ABCD. What are the digits? Note: to make ABCD and DCBA conventional numbers, neither A nor D can be zero. Use a quadruple-nested loop."
   ]
  },
  {
   "cell_type": "code",
   "execution_count": 51,
   "metadata": {},
   "outputs": [
    {
     "name": "stdout",
     "output_type": "stream",
     "text": [
      "2 1 7 8\n"
     ]
    }
   ],
   "source": [
    "\"\"\"\n",
    "A = 2\n",
    "B = 1\n",
    "C = 7\n",
    "D = 8\n",
    "\"\"\"\n",
    "# Solve 4*ABCD == DCBA\n",
    "\n",
    "def solver():\n",
    "    for a in range(1, 9):\n",
    "        for b in range(0,9):\n",
    "            for c in range(0,9):\n",
    "                for d in range(1,9):\n",
    "                    if 4 * (a * 1000 + b * 100 + c * 10 + d) == (1000 * d + 100 * c + 10 * b + a):\n",
    "                        print(a, b, c, d)\n",
    "\n",
    "solver()"
   ]
  },
  {
   "cell_type": "markdown",
   "metadata": {},
   "source": []
  }
 ],
 "metadata": {
  "kernelspec": {
   "display_name": "Python 3",
   "language": "python",
   "name": "python3"
  },
  "language_info": {
   "codemirror_mode": {
    "name": "ipython",
    "version": 3
   },
   "file_extension": ".py",
   "mimetype": "text/x-python",
   "name": "python",
   "nbconvert_exporter": "python",
   "pygments_lexer": "ipython3",
   "version": "3.7.6"
  }
 },
 "nbformat": 4,
 "nbformat_minor": 4
}
